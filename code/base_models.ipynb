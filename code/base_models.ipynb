{
 "cells": [
  {
   "cell_type": "code",
   "execution_count": 24,
   "metadata": {},
   "outputs": [],
   "source": [
    "import pandas as pd\n",
    "from sklearn.model_selection import  KFold\n",
    "from sklearn.preprocessing import StandardScaler\n",
    "from sklearn.pipeline import Pipeline\n",
    "import numpy as np\n",
    "import matplotlib.pyplot as plt\n",
    "import seaborn as sns"
   ]
  },
  {
   "cell_type": "code",
   "execution_count": 25,
   "metadata": {},
   "outputs": [],
   "source": [
    "data=pd.read_csv('../data/imputed.csv')\n",
    "target = ['EURWH_MBOE','OilEURWH_MBBL','GasEURWH_BCF']\n",
    "\n",
    "X = data[[column for column in data.columns if column not in target]]\n",
    "y = data['EURWH_MBOE']"
   ]
  },
  {
   "cell_type": "code",
   "execution_count": 38,
   "metadata": {},
   "outputs": [],
   "source": [
    "def cross_validate (model, X, y):\n",
    "    cv = KFold(n_splits = 10)\n",
    "    pipeline = Pipeline([('scaler', StandardScaler()), ('model', model)])\n",
    "\n",
    "    rmse = []\n",
    "    nrmse = []\n",
    "    predictions = []\n",
    "    \n",
    "    for i, (train_index, test_index) in enumerate(cv.split(X)):\n",
    "        \n",
    "        print(\"Fold:\", i + 1)\n",
    "        X_train, X_test, y_train, y_test = X.iloc[train_index], X.iloc[test_index], y.iloc[train_index], y.iloc[test_index]\n",
    "        pipeline.fit(X_train, y_train)\n",
    "        pred = pipeline.predict(X_test)\n",
    "\n",
    "        rmse.append(np.sqrt(((y_test - pred) ** 2).mean()))\n",
    "        nrmse.append(np.sqrt(((y_test - pred) ** 2).mean()) / y_test.mean(axis = 0))\n",
    "        predictions.append(pred)\n",
    "\n",
    "    print(\"Mean RMSE:\", np.mean(np.array(rmse), axis = 0))\n",
    "    print(\"Mean NRMSE:\", np.mean(np.array(nrmse), axis = 0))\n",
    "\n",
    "    return rmse, nrmse, np.hstack(predictions)"
   ]
  },
  {
   "cell_type": "code",
   "execution_count": 40,
   "metadata": {},
   "outputs": [
    {
     "name": "stdout",
     "output_type": "stream",
     "text": [
      "Fold: 1\n",
      "Fold: 2\n",
      "Fold: 3\n",
      "Fold: 4\n",
      "Fold: 5\n",
      "Fold: 6\n",
      "Fold: 7\n",
      "Fold: 8\n",
      "Fold: 9\n",
      "Fold: 10\n",
      "Mean RMSE: 519.4715650973463\n",
      "Mean NRMSE: 0.4908922307604242\n",
      "(16505,)\n"
     ]
    }
   ],
   "source": [
    "from sklearn.linear_model import LinearRegression\n",
    "\n",
    "model = LinearRegression()\n",
    "rmse, nrmse, predictions = cross_validate(model, X, y)"
   ]
  },
  {
   "cell_type": "code",
   "execution_count": 71,
   "metadata": {},
   "outputs": [
    {
     "name": "stdout",
     "output_type": "stream",
     "text": [
      "Fold: 1\n",
      "Fold: 2\n",
      "Fold: 3\n",
      "Fold: 4\n",
      "Fold: 5\n",
      "Fold: 6\n",
      "Fold: 7\n",
      "Fold: 8\n",
      "Fold: 9\n",
      "Fold: 10\n",
      "Mean RMSE: 519.467483742307\n",
      "Mean NRMSE: 0.490888407599593\n"
     ]
    }
   ],
   "source": [
    "from sklearn.linear_model import Ridge\n",
    "\n",
    "model = Ridge()\n",
    "rmse, nrmse = cross_validate(model, X, y)"
   ]
  },
  {
   "cell_type": "code",
   "execution_count": 72,
   "metadata": {},
   "outputs": [
    {
     "name": "stdout",
     "output_type": "stream",
     "text": [
      "Fold: 1\n",
      "Fold: 2\n",
      "Fold: 3\n",
      "Fold: 4\n",
      "Fold: 5\n",
      "Fold: 6\n",
      "Fold: 7\n",
      "Fold: 8\n",
      "Fold: 9\n",
      "Fold: 10\n",
      "Mean RMSE: 519.424883169093\n",
      "Mean NRMSE: 0.4908477957086627\n"
     ]
    }
   ],
   "source": [
    "from sklearn.linear_model import Lasso\n",
    "\n",
    "model = Lasso()\n",
    "rmse, nrmse = cross_validate(model, X, y)"
   ]
  },
  {
   "cell_type": "code",
   "execution_count": 73,
   "metadata": {},
   "outputs": [
    {
     "name": "stdout",
     "output_type": "stream",
     "text": [
      "Fold: 1\n",
      "Fold: 2\n",
      "Fold: 3\n",
      "Fold: 4\n",
      "Fold: 5\n",
      "Fold: 6\n",
      "Fold: 7\n",
      "Fold: 8\n",
      "Fold: 9\n",
      "Fold: 10\n",
      "Mean RMSE: 453.213332900757\n",
      "Mean NRMSE: 0.4282619568776149\n"
     ]
    }
   ],
   "source": [
    "from sklearn.ensemble import RandomForestRegressor\n",
    "\n",
    "model = RandomForestRegressor()\n",
    "rmse, nrmse = cross_validate(model, X, y)"
   ]
  },
  {
   "cell_type": "code",
   "execution_count": 76,
   "metadata": {},
   "outputs": [
    {
     "name": "stdout",
     "output_type": "stream",
     "text": [
      "Fold: 1\n",
      "[LightGBM] [Info] Auto-choosing col-wise multi-threading, the overhead of testing was 0.004462 seconds.\n",
      "You can set `force_col_wise=true` to remove the overhead.\n",
      "[LightGBM] [Info] Total Bins 5079\n",
      "[LightGBM] [Info] Number of data points in the train set: 14854, number of used features: 49\n",
      "[LightGBM] [Info] Start training from score 1057.559243\n",
      "Fold: 2\n",
      "[LightGBM] [Info] Auto-choosing col-wise multi-threading, the overhead of testing was 0.003190 seconds.\n",
      "You can set `force_col_wise=true` to remove the overhead.\n",
      "[LightGBM] [Info] Total Bins 5092\n",
      "[LightGBM] [Info] Number of data points in the train set: 14854, number of used features: 49\n",
      "[LightGBM] [Info] Start training from score 1057.451461\n",
      "Fold: 3\n",
      "[LightGBM] [Info] Auto-choosing col-wise multi-threading, the overhead of testing was 0.005376 seconds.\n",
      "You can set `force_col_wise=true` to remove the overhead.\n",
      "[LightGBM] [Info] Total Bins 5088\n",
      "[LightGBM] [Info] Number of data points in the train set: 14854, number of used features: 49\n",
      "[LightGBM] [Info] Start training from score 1057.999933\n",
      "Fold: 4\n",
      "[LightGBM] [Info] Auto-choosing col-wise multi-threading, the overhead of testing was 0.004820 seconds.\n",
      "You can set `force_col_wise=true` to remove the overhead.\n",
      "[LightGBM] [Info] Total Bins 5091\n",
      "[LightGBM] [Info] Number of data points in the train set: 14854, number of used features: 49\n",
      "[LightGBM] [Info] Start training from score 1060.720547\n",
      "Fold: 5\n",
      "[LightGBM] [Info] Auto-choosing col-wise multi-threading, the overhead of testing was 0.006759 seconds.\n",
      "You can set `force_col_wise=true` to remove the overhead.\n",
      "[LightGBM] [Info] Total Bins 5098\n",
      "[LightGBM] [Info] Number of data points in the train set: 14854, number of used features: 49\n",
      "[LightGBM] [Info] Start training from score 1058.026727\n",
      "Fold: 6\n",
      "[LightGBM] [Info] Auto-choosing col-wise multi-threading, the overhead of testing was 0.004477 seconds.\n",
      "You can set `force_col_wise=true` to remove the overhead.\n",
      "[LightGBM] [Info] Total Bins 5091\n",
      "[LightGBM] [Info] Number of data points in the train set: 14855, number of used features: 49\n",
      "[LightGBM] [Info] Start training from score 1055.571592\n",
      "Fold: 7\n",
      "[LightGBM] [Info] Auto-choosing col-wise multi-threading, the overhead of testing was 0.004726 seconds.\n",
      "You can set `force_col_wise=true` to remove the overhead.\n",
      "[LightGBM] [Info] Total Bins 5101\n",
      "[LightGBM] [Info] Number of data points in the train set: 14855, number of used features: 49\n",
      "[LightGBM] [Info] Start training from score 1059.329653\n",
      "Fold: 8\n",
      "[LightGBM] [Info] Auto-choosing col-wise multi-threading, the overhead of testing was 0.003662 seconds.\n",
      "You can set `force_col_wise=true` to remove the overhead.\n",
      "[LightGBM] [Info] Total Bins 5091\n",
      "[LightGBM] [Info] Number of data points in the train set: 14855, number of used features: 49\n",
      "[LightGBM] [Info] Start training from score 1060.367755\n",
      "Fold: 9\n",
      "[LightGBM] [Info] Auto-choosing col-wise multi-threading, the overhead of testing was 0.004324 seconds.\n",
      "You can set `force_col_wise=true` to remove the overhead.\n",
      "[LightGBM] [Info] Total Bins 5099\n",
      "[LightGBM] [Info] Number of data points in the train set: 14855, number of used features: 49\n",
      "[LightGBM] [Info] Start training from score 1056.628879\n",
      "Fold: 10\n",
      "[LightGBM] [Info] Auto-choosing col-wise multi-threading, the overhead of testing was 0.004464 seconds.\n",
      "You can set `force_col_wise=true` to remove the overhead.\n",
      "[LightGBM] [Info] Total Bins 5086\n",
      "[LightGBM] [Info] Number of data points in the train set: 14855, number of used features: 49\n",
      "[LightGBM] [Info] Start training from score 1055.008415\n",
      "Mean RMSE: 456.9200502169789\n",
      "Mean NRMSE: 0.4317619275470704\n"
     ]
    }
   ],
   "source": [
    "from lightgbm import LGBMRegressor\n",
    "\n",
    "model = LGBMRegressor()\n",
    "rmse, nrmse = cross_validate(model, X, y)"
   ]
  },
  {
   "cell_type": "code",
   "execution_count": 34,
   "metadata": {},
   "outputs": [
    {
     "name": "stdout",
     "output_type": "stream",
     "text": [
      "Fold: 1\n",
      "Fold: 2\n",
      "Fold: 3\n",
      "Fold: 4\n",
      "Fold: 5\n",
      "Fold: 6\n",
      "Fold: 7\n",
      "Fold: 8\n",
      "Fold: 9\n",
      "Fold: 10\n",
      "Mean RMSE: 516.8658229850446\n",
      "Mean NRMSE: 0.48841275860084876\n"
     ]
    }
   ],
   "source": [
    "from sklearn.neighbors import KNeighborsRegressor\n",
    "\n",
    "model = KNeighborsRegressor(n_neighbors=10)\n",
    "rmse, nrmse, predictions = cross_validate(model, X, y)"
   ]
  },
  {
   "cell_type": "code",
   "execution_count": 36,
   "metadata": {},
   "outputs": [
    {
     "name": "stdout",
     "output_type": "stream",
     "text": [
      "Fold: 1\n",
      "Fold: 2\n",
      "Fold: 3\n",
      "Fold: 4\n",
      "Fold: 5\n",
      "Fold: 6\n",
      "Fold: 7\n",
      "Fold: 8\n",
      "Fold: 9\n",
      "Fold: 10\n",
      "Mean RMSE: 613.1975335514837\n",
      "Mean NRMSE: 0.5794708068806337\n"
     ]
    }
   ],
   "source": [
    "from sklearn.svm import SVR\n",
    "\n",
    "model = SVR()\n",
    "rmse, nrmse, predictions = cross_validate(model, X, y)"
   ]
  }
 ],
 "metadata": {
  "kernelspec": {
   "display_name": "COMP540",
   "language": "python",
   "name": "python3"
  },
  "language_info": {
   "codemirror_mode": {
    "name": "ipython",
    "version": 3
   },
   "file_extension": ".py",
   "mimetype": "text/x-python",
   "name": "python",
   "nbconvert_exporter": "python",
   "pygments_lexer": "ipython3",
   "version": "3.11.4"
  }
 },
 "nbformat": 4,
 "nbformat_minor": 2
}
