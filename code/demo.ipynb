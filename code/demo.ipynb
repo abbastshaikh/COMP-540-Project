{
 "cells": [
  {
   "cell_type": "code",
   "execution_count": 6,
   "metadata": {},
   "outputs": [],
   "source": [
    "import pandas as pd\n",
    "from util import cross_validate\n",
    "import matplotlib.pyplot as plt"
   ]
  },
  {
   "cell_type": "code",
   "execution_count": 12,
   "metadata": {},
   "outputs": [],
   "source": [
    "data=pd.read_csv('../data/imputed.csv')\n",
    "\n",
    "target = ['EURWH_MBOE','OilEURWH_MBBL','GasEURWH_BCF']\n",
    "X = data[[column for column in data.columns if column not in target]]\n",
    "y = data['EURWH_MBOE']"
   ]
  },
  {
   "cell_type": "code",
   "execution_count": 13,
   "metadata": {},
   "outputs": [
    {
     "name": "stdout",
     "output_type": "stream",
     "text": [
      "Mean RMSE: 449.6123022589888\n",
      "Mean NRMSE: 0.42487813819454806\n",
      "Mean Adjusted R^2: 0.5439629888649875\n"
     ]
    }
   ],
   "source": [
    "from lightgbm import LGBMRegressor\n",
    "\n",
    "best_params = {}\n",
    "model = LGBMRegressor(n_estimators=500, learning_rate=0.1, max_depth=10, force_col_wise=True, verbose=-1)\n",
    "            \n",
    "predictions = cross_validate(model, X, y)"
   ]
  }
 ],
 "metadata": {
  "kernelspec": {
   "display_name": "COMP540",
   "language": "python",
   "name": "python3"
  },
  "language_info": {
   "codemirror_mode": {
    "name": "ipython",
    "version": 3
   },
   "file_extension": ".py",
   "mimetype": "text/x-python",
   "name": "python",
   "nbconvert_exporter": "python",
   "pygments_lexer": "ipython3",
   "version": "3.11.4"
  }
 },
 "nbformat": 4,
 "nbformat_minor": 2
}
