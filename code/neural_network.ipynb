{
  "cells": [
    {
      "cell_type": "code",
      "execution_count": 52,
      "metadata": {
        "id": "Z1qMkHfpS5gt"
      },
      "outputs": [],
      "source": [
        "import torch\n",
        "from torch.utils.data import Dataset, DataLoader\n",
        "import numpy as np\n",
        "import matplotlib.pyplot as plt\n",
        "import torch.nn as nn\n",
        "import pandas as pd\n",
        "from sklearn.model_selection import train_test_split\n",
        "from sklearn.preprocessing import StandardScaler\n",
        "from sklearn.metrics import r2_score"
      ]
    },
    {
      "cell_type": "code",
      "execution_count": 2,
      "metadata": {
        "colab": {
          "base_uri": "https://localhost:8080/"
        },
        "id": "7XABBqTeS_6_",
        "outputId": "ca19264e-6ad6-4bfa-a8e6-fa64074a9c82"
      },
      "outputs": [
        {
          "name": "stdout",
          "output_type": "stream",
          "text": [
            "Mounted at /content/drive\n"
          ]
        }
      ],
      "source": [
        "from google.colab import drive\n",
        "drive.mount('/content/drive')"
      ]
    },
    {
      "cell_type": "code",
      "execution_count": 3,
      "metadata": {
        "id": "vMffL1FFTFAa"
      },
      "outputs": [],
      "source": [
        "data=pd.read_csv('/content/drive/Shareddrives/540 Project/data/imputed.csv')\n",
        "target = ['EURWH_MBOE','OilEURWH_MBBL','GasEURWH_BCF']\n",
        "\n",
        "X = data[[column for column in data.columns if column not in target]]\n",
        "y = data['EURWH_MBOE']"
      ]
    },
    {
      "cell_type": "code",
      "execution_count": 4,
      "metadata": {
        "id": "cew3rrWHTPZp"
      },
      "outputs": [],
      "source": [
        "class WellsDataset (Dataset):\n",
        "    def __init__(self, features, labels):\n",
        "        self.features = features.astype(np.float64)\n",
        "        self.labels = labels.astype(np.float64)\n",
        "\n",
        "    def __len__(self):\n",
        "        return len(self.features)\n",
        "\n",
        "    def __getitem__(self, idx):\n",
        "        return {'features': torch.tensor(self.features[idx, :]), 'labels': torch.tensor(self.labels[idx]).unsqueeze(-1)}"
      ]
    },
    {
      "cell_type": "code",
      "execution_count": 5,
      "metadata": {
        "id": "zZLNoCNvUe5Z"
      },
      "outputs": [],
      "source": [
        "scaler = StandardScaler()\n",
        "\n",
        "X_train, X_test, y_train, y_test = train_test_split(X, y, test_size = 0.2)\n",
        "X_val, X_test, y_val, y_test = train_test_split(X_test, y_test, test_size = 0.5)\n",
        "\n",
        "X_train = scaler.fit_transform(X_train)\n",
        "X_val = scaler.transform(X_val)\n",
        "X_test = scaler.transform(X_test)\n",
        "\n",
        "y_train = np.array(y_train)\n",
        "y_val = np.array(y_val)\n",
        "y_test = np.array(y_test)\n",
        "\n",
        "train_set = WellsDataset(X_train, y_train)\n",
        "val_set = WellsDataset(X_val, y_val)\n",
        "test_set = WellsDataset(X_test, y_test)\n",
        "\n",
        "trainloader = torch.utils.data.DataLoader(train_set,batch_size=64)\n",
        "valloader = torch.utils.data.DataLoader(val_set,batch_size=64)\n",
        "testloader = torch.utils.data.DataLoader(test_set, batch_size=64)"
      ]
    },
    {
      "cell_type": "code",
      "execution_count": 6,
      "metadata": {
        "colab": {
          "base_uri": "https://localhost:8080/"
        },
        "id": "jmu7JFTgWtgW",
        "outputId": "555d8061-30cf-4486-ab55-f26279f0a54c"
      },
      "outputs": [
        {
          "name": "stdout",
          "output_type": "stream",
          "text": [
            "Number of training batches =  207\n",
            "Number of validation batches =  26\n",
            "Number of test batches =  26\n"
          ]
        }
      ],
      "source": [
        "print(\"Number of training batches = \",len(trainloader))\n",
        "print(\"Number of validation batches = \",len(valloader))\n",
        "print(\"Number of test batches = \",len(testloader))"
      ]
    },
    {
      "cell_type": "code",
      "execution_count": 7,
      "metadata": {
        "colab": {
          "base_uri": "https://localhost:8080/"
        },
        "id": "l4ZfMROgZAD3",
        "outputId": "d64b4155-ecde-4317-ae2b-9998a6aef3f1"
      },
      "outputs": [
        {
          "name": "stdout",
          "output_type": "stream",
          "text": [
            "torch.Size([64, 49])\n",
            "torch.Size([64, 1])\n"
          ]
        }
      ],
      "source": [
        "sample = next(iter(trainloader))\n",
        "\n",
        "print(sample[\"features\"].shape)\n",
        "print(sample[\"labels\"].shape)"
      ]
    },
    {
      "cell_type": "code",
      "execution_count": 47,
      "metadata": {
        "id": "y87fQFeAW9cJ"
      },
      "outputs": [],
      "source": [
        "class FiveLayerFC(nn.Module):\n",
        "\n",
        "    def __init__(self, input_size, hidden_size,lr,wd):\n",
        "        super().__init__()\n",
        "\n",
        "        self.net = nn.Sequential(\n",
        "            nn.Linear(in_features = input_size, out_features = hidden_size, bias=True),\n",
        "            nn.ReLU(),\n",
        "            nn.Linear(in_features = hidden_size, out_features = hidden_size, bias=True),\n",
        "            nn.ReLU(),\n",
        "            nn.Linear(in_features = hidden_size, out_features = hidden_size, bias=True),\n",
        "            nn.ReLU(),\n",
        "            nn.Linear(in_features = hidden_size, out_features = hidden_size, bias=True),\n",
        "            nn.ReLU(),\n",
        "            nn.Linear(in_features = hidden_size, out_features = 1, bias=True),\n",
        "            nn.ReLU()\n",
        "        )\n",
        "\n",
        "        nn.init.xavier_uniform_(self.net[0].weight)\n",
        "        nn.init.xavier_uniform_(self.net[2].weight)\n",
        "        nn.init.xavier_uniform_(self.net[4].weight)\n",
        "        nn.init.xavier_uniform_(self.net[6].weight)\n",
        "        nn.init.xavier_uniform_(self.net[8].weight)\n",
        "\n",
        "        nn.init.zeros_(self.net[0].bias)\n",
        "        nn.init.zeros_(self.net[2].bias)\n",
        "        nn.init.zeros_(self.net[4].bias)\n",
        "        nn.init.zeros_(self.net[6].bias)\n",
        "        nn.init.zeros_(self.net[8].bias)\n",
        "\n",
        "        self.lr = lr\n",
        "        self.wd = wd\n",
        "\n",
        "    def forward(self, x):\n",
        "        return self.net(x)\n",
        "\n",
        "    def loss(self,yhat,y):\n",
        "        return nn.functional.mse_loss(yhat, y)\n",
        "\n",
        "    def predict(self,x):\n",
        "        return self.forward(x)\n",
        "\n",
        "    def configure_optimizers(self):\n",
        "        return torch.optim.Adam(self.parameters(), lr = self.lr, weight_decay = self.wd)"
      ]
    },
    {
      "cell_type": "code",
      "execution_count": 48,
      "metadata": {
        "colab": {
          "base_uri": "https://localhost:8080/"
        },
        "id": "OpV_rjQQXmx7",
        "outputId": "8889f3c5-06b7-4630-b9d5-bf1233716747"
      },
      "outputs": [
        {
          "name": "stdout",
          "output_type": "stream",
          "text": [
            "Device is:  cuda\n",
            "torch.Size([64, 1])\n"
          ]
        }
      ],
      "source": [
        "lr = 1e-3\n",
        "wd = 1e-3\n",
        "\n",
        "device = torch.device(\"cuda\" if torch.cuda.is_available() else \"cpu\")\n",
        "print('Device is: ', device)\n",
        "\n",
        "def test_FiveLayerFC(lr,wd):\n",
        "    input_size = 49\n",
        "    x = torch.zeros((64, input_size), dtype=torch.float).to(device)\n",
        "    model = FiveLayerFC(input_size, 100, lr,wd).to(device)\n",
        "    outputs = model(x)\n",
        "    print(outputs.size())\n",
        "\n",
        "test_FiveLayerFC(lr,wd)"
      ]
    },
    {
      "cell_type": "code",
      "execution_count": 49,
      "metadata": {
        "id": "bp00kgxyX9hI"
      },
      "outputs": [],
      "source": [
        "def train_model(model,trainloader,valloader,num_epochs,device,verbose=True):\n",
        "\n",
        "  # send model to GPU\n",
        "  model = model.to(device)\n",
        "\n",
        "  # initialize train loss and val loss tensors for for plotting\n",
        "  train_loss = torch.empty(num_epochs)\n",
        "  val_loss = torch.empty(num_epochs)\n",
        "\n",
        "  # configure optimizer for model\n",
        "  optimizer = model.configure_optimizers()\n",
        "\n",
        "  for epoch in range(num_epochs):\n",
        "\n",
        "    if verbose:\n",
        "      print(\"Epoch: \", (epoch + 1), \"/\", num_epochs)\n",
        "\n",
        "    # initialize a running train loss and a running val loss\n",
        "    epoch_train_loss = 0\n",
        "    epoch_val_loss = 0\n",
        "\n",
        "    # training loop\n",
        "    for sample in trainloader:\n",
        "\n",
        "      trainX = sample['features']\n",
        "      trainy = sample['labels']\n",
        "\n",
        "      # zero the parameter gradients\n",
        "      optimizer.zero_grad()\n",
        "\n",
        "      # forward + backward + optimize step\n",
        "      loss = model.loss(model(trainX.to(device)), trainy.to(device))\n",
        "      loss.backward()\n",
        "      optimizer.step()\n",
        "\n",
        "      # accumulate running train loss with loss\n",
        "      epoch_train_loss += loss / len(trainloader)\n",
        "\n",
        "    with torch.no_grad():\n",
        "\n",
        "      # validation loop\n",
        "      for sample in valloader:\n",
        "\n",
        "        valX = sample['features']\n",
        "        valy = sample['labels']\n",
        "\n",
        "        # get loss on validation data\n",
        "        loss = model.loss(model(valX.to(device)), valy.to(device))\n",
        "\n",
        "        # accumulate running validation loss with loss\n",
        "        epoch_val_loss += loss / len(valloader)\n",
        "\n",
        "    # save accumulated train/val loss\n",
        "    train_loss[epoch] = epoch_train_loss\n",
        "    val_loss[epoch] = epoch_val_loss\n",
        "\n",
        "    if verbose:\n",
        "      print(\"Train Loss: \", epoch_train_loss.item())\n",
        "      print(\"Validation Loss: \", epoch_val_loss.item())\n",
        "      print()\n",
        "\n",
        "  return model, train_loss, val_loss"
      ]
    },
    {
      "cell_type": "code",
      "execution_count": 53,
      "metadata": {
        "id": "MQJPEbH9ouRF"
      },
      "outputs": [],
      "source": [
        "def model_eval(model,testloader):\n",
        "    with torch.no_grad():\n",
        "        ys=[]\n",
        "        outputs=[]\n",
        "        for i, tdata in enumerate(testloader):\n",
        "            tX,ty = tdata[\"features\"], tdata[\"labels\"]\n",
        "            tX=tX.to(device)\n",
        "            ty=ty.to(device)\n",
        "            output = model.predict(tX)\n",
        "            ys.append(ty.detach().cpu().numpy())\n",
        "            outputs.append(output.detach().cpu().numpy())\n",
        "\n",
        "    ys=np.vstack(ys)\n",
        "    outputs= np.vstack(outputs)\n",
        "\n",
        "    rmse = np.sqrt(((ys - outputs) ** 2).mean())\n",
        "    nrmse = np.sqrt(((ys - outputs) ** 2).mean()) / ys.mean(axis = 0)\n",
        "    r2 = 1 - (1 - r2_score(ys, outputs))*(len(ys) - 1) / (len(ys) - 49 - 1)\n",
        "\n",
        "    print(\"RMSE:\", rmse)\n",
        "    print(\"NRMSE:\", nrmse)\n",
        "    print(\"Adjust R^2:\", r2)"
      ]
    },
    {
      "cell_type": "code",
      "execution_count": 56,
      "metadata": {
        "colab": {
          "base_uri": "https://localhost:8080/"
        },
        "id": "I0UseR7IYReH",
        "outputId": "63891589-cf93-4f72-8dcb-a0cc5fa5d335"
      },
      "outputs": [
        {
          "name": "stdout",
          "output_type": "stream",
          "text": [
            "Evaluating model with hidden size = 100 learning rate = 0.0001 and weight decay = 1e-07\n",
            "RMSE: 508.1928833501394\n",
            "NRMSE: [0.48027497]\n",
            "Adjust R^2: 0.4019842641193184\n",
            "\n",
            "Evaluating model with hidden size = 100 learning rate = 0.0001 and weight decay = 1e-06\n",
            "RMSE: 503.28741372021005\n",
            "NRMSE: [0.47563899]\n",
            "Adjust R^2: 0.41347356155835857\n",
            "\n",
            "Evaluating model with hidden size = 100 learning rate = 0.0001 and weight decay = 1e-05\n",
            "RMSE: 506.1608521911803\n",
            "NRMSE: [0.47835457]\n",
            "Adjust R^2: 0.40675708625265306\n",
            "\n",
            "Evaluating model with hidden size = 100 learning rate = 0.001 and weight decay = 1e-07\n",
            "RMSE: 494.4791849476771\n",
            "NRMSE: [0.46731465]\n",
            "Adjust R^2: 0.4338239639599998\n",
            "\n",
            "Evaluating model with hidden size = 100 learning rate = 0.001 and weight decay = 1e-06\n",
            "RMSE: 499.0893804655324\n",
            "NRMSE: [0.47167158]\n",
            "Adjust R^2: 0.42321745065767824\n",
            "\n",
            "Evaluating model with hidden size = 100 learning rate = 0.001 and weight decay = 1e-05\n",
            "RMSE: 496.68040235456095\n",
            "NRMSE: [0.46939494]\n",
            "Adjust R^2: 0.4287719798178109\n",
            "\n",
            "Evaluating model with hidden size = 100 learning rate = 0.01 and weight decay = 1e-07\n",
            "RMSE: 510.3133025303736\n",
            "NRMSE: [0.48227891]\n",
            "Adjust R^2: 0.39698344842334443\n",
            "\n",
            "Evaluating model with hidden size = 100 learning rate = 0.01 and weight decay = 1e-06\n",
            "RMSE: 483.93574802938525\n",
            "NRMSE: [0.45735042]\n",
            "Adjust R^2: 0.4577109156077006\n",
            "\n",
            "Evaluating model with hidden size = 100 learning rate = 0.01 and weight decay = 1e-05\n",
            "RMSE: 495.0690017844159\n",
            "NRMSE: [0.46787206]\n",
            "Adjust R^2: 0.43247248413478667\n",
            "\n",
            "Evaluating model with hidden size = 100 learning rate = 0.1 and weight decay = 1e-07\n",
            "RMSE: 500.4822194480257\n",
            "NRMSE: [0.4729879]\n",
            "Adjust R^2: 0.4199936344410362\n",
            "\n",
            "Evaluating model with hidden size = 100 learning rate = 0.1 and weight decay = 1e-06\n",
            "RMSE: 498.94958845215854\n",
            "NRMSE: [0.47153946]\n",
            "Adjust R^2: 0.42354051223770084\n",
            "\n",
            "Evaluating model with hidden size = 100 learning rate = 0.1 and weight decay = 1e-05\n",
            "RMSE: 498.13460434306637\n",
            "NRMSE: [0.47076925]\n",
            "Adjust R^2: 0.4254221517579634\n",
            "\n",
            "Evaluating model with hidden size = 250 learning rate = 0.0001 and weight decay = 1e-07\n",
            "RMSE: 492.7624661168442\n",
            "NRMSE: [0.46569224]\n",
            "Adjust R^2: 0.43774840758384803\n",
            "\n",
            "Evaluating model with hidden size = 250 learning rate = 0.0001 and weight decay = 1e-06\n",
            "RMSE: 489.3101705407831\n",
            "NRMSE: [0.46242959]\n",
            "Adjust R^2: 0.4455990832587886\n",
            "\n",
            "Evaluating model with hidden size = 250 learning rate = 0.0001 and weight decay = 1e-05\n",
            "RMSE: 491.32976744905477\n",
            "NRMSE: [0.46433824]\n",
            "Adjust R^2: 0.4410131289044079\n",
            "\n",
            "Evaluating model with hidden size = 250 learning rate = 0.001 and weight decay = 1e-07\n",
            "RMSE: 507.03673017301253\n",
            "NRMSE: [0.47918233]\n",
            "Adjust R^2: 0.40470217434936573\n",
            "\n",
            "Evaluating model with hidden size = 250 learning rate = 0.001 and weight decay = 1e-06\n",
            "RMSE: 513.9930501694515\n",
            "NRMSE: [0.4857565]\n",
            "Adjust R^2: 0.388255677164941\n",
            "\n",
            "Evaluating model with hidden size = 250 learning rate = 0.001 and weight decay = 1e-05\n",
            "RMSE: 500.84176197497277\n",
            "NRMSE: [0.47332769]\n",
            "Adjust R^2: 0.4191599909992768\n",
            "\n",
            "Evaluating model with hidden size = 250 learning rate = 0.01 and weight decay = 1e-07\n",
            "RMSE: 509.1048603887161\n",
            "NRMSE: [0.48113685]\n",
            "Adjust R^2: 0.39983600116541673\n",
            "\n",
            "Evaluating model with hidden size = 250 learning rate = 0.01 and weight decay = 1e-06\n",
            "RMSE: 495.6906285035077\n",
            "NRMSE: [0.46845954]\n",
            "Adjust R^2: 0.431046372806542\n",
            "\n",
            "Evaluating model with hidden size = 250 learning rate = 0.01 and weight decay = 1e-05\n",
            "RMSE: 487.6714965041443\n",
            "NRMSE: [0.46088094]\n",
            "Adjust R^2: 0.44930618445095083\n",
            "\n",
            "Evaluating model with hidden size = 250 learning rate = 0.1 and weight decay = 1e-07\n",
            "RMSE: 1250.8861113617895\n",
            "NRMSE: [1.18216786]\n",
            "Adjust R^2: -2.623189049740064\n",
            "\n",
            "Evaluating model with hidden size = 250 learning rate = 0.1 and weight decay = 1e-06\n",
            "RMSE: 1250.8861113617895\n",
            "NRMSE: [1.18216786]\n",
            "Adjust R^2: -2.623189049740064\n",
            "\n",
            "Evaluating model with hidden size = 250 learning rate = 0.1 and weight decay = 1e-05\n",
            "RMSE: 1250.8861113617895\n",
            "NRMSE: [1.18216786]\n",
            "Adjust R^2: -2.623189049740064\n",
            "\n",
            "Evaluating model with hidden size = 500 learning rate = 0.0001 and weight decay = 1e-07\n",
            "RMSE: 489.09368072690376\n",
            "NRMSE: [0.462225]\n",
            "Adjust R^2: 0.44608955170712594\n",
            "\n",
            "Evaluating model with hidden size = 500 learning rate = 0.0001 and weight decay = 1e-06\n",
            "RMSE: 484.94054417652507\n",
            "NRMSE: [0.45830002]\n",
            "Adjust R^2: 0.4554566673419381\n",
            "\n",
            "Evaluating model with hidden size = 500 learning rate = 0.0001 and weight decay = 1e-05\n",
            "RMSE: 486.9010768196661\n",
            "NRMSE: [0.46015285]\n",
            "Adjust R^2: 0.45104477378037955\n",
            "\n",
            "Evaluating model with hidden size = 500 learning rate = 0.001 and weight decay = 1e-07\n",
            "RMSE: 503.34849139528416\n",
            "NRMSE: [0.47569671]\n",
            "Adjust R^2: 0.4133311942191903\n",
            "\n",
            "Evaluating model with hidden size = 500 learning rate = 0.001 and weight decay = 1e-06\n",
            "RMSE: 495.71228479502616\n",
            "NRMSE: [0.46848]\n",
            "Adjust R^2: 0.4309966575444061\n",
            "\n",
            "Evaluating model with hidden size = 500 learning rate = 0.001 and weight decay = 1e-05\n",
            "RMSE: 509.3198782733016\n",
            "NRMSE: [0.48134006]\n",
            "Adjust R^2: 0.39932894160091226\n",
            "\n",
            "Evaluating model with hidden size = 500 learning rate = 0.01 and weight decay = 1e-07\n",
            "RMSE: 492.0163246249888\n",
            "NRMSE: [0.46498708]\n",
            "Adjust R^2: 0.43944984246385466\n",
            "\n",
            "Evaluating model with hidden size = 500 learning rate = 0.01 and weight decay = 1e-06\n",
            "RMSE: 501.05616797244386\n",
            "NRMSE: [0.47353032]\n",
            "Adjust R^2: 0.4186625794523291\n",
            "\n",
            "Evaluating model with hidden size = 500 learning rate = 0.01 and weight decay = 1e-05\n",
            "RMSE: 498.5807452585428\n",
            "NRMSE: [0.47119088]\n",
            "Adjust R^2: 0.42439248034697563\n",
            "\n",
            "Evaluating model with hidden size = 500 learning rate = 0.1 and weight decay = 1e-07\n",
            "RMSE: 1250.8861113617895\n",
            "NRMSE: [1.18216786]\n",
            "Adjust R^2: -2.623189049740064\n",
            "\n",
            "Evaluating model with hidden size = 500 learning rate = 0.1 and weight decay = 1e-06\n",
            "RMSE: 1250.8861113617895\n",
            "NRMSE: [1.18216786]\n",
            "Adjust R^2: -2.623189049740064\n",
            "\n",
            "Evaluating model with hidden size = 500 learning rate = 0.1 and weight decay = 1e-05\n",
            "RMSE: 1250.8861113617895\n",
            "NRMSE: [1.18216786]\n",
            "Adjust R^2: -2.623189049740064\n",
            "\n"
          ]
        }
      ],
      "source": [
        "num_epochs = 25\n",
        "\n",
        "for hidden_size in [100, 250, 500]:\n",
        "  for lr in [1e-4, 1e-3, 1e-2, 1e-1]:\n",
        "    for wd in [1e-7, 1e-6, 1e-5]:\n",
        "      print(\"Evaluating model with hidden size =\", hidden_size, \"learning rate =\", lr, \"and weight decay =\", wd)\n",
        "      model = FiveLayerFC(49,hidden_size,lr,wd)\n",
        "      model.double()\n",
        "      model,train_loss,val_loss = train_model(model,trainloader,valloader,num_epochs,device,verbose=False)\n",
        "      model_eval(model,testloader)\n",
        "      print()"
      ]
    },
    {
      "cell_type": "code",
      "execution_count": 64,
      "metadata": {
        "colab": {
          "base_uri": "https://localhost:8080/"
        },
        "id": "lEdktG_h0RU1",
        "outputId": "00d8c727-05b6-4878-b6f4-7be21099afe0"
      },
      "outputs": [
        {
          "name": "stdout",
          "output_type": "stream",
          "text": [
            "RMSE: 486.46148303278426\n",
            "NRMSE: [0.4597374]\n",
            "Adjust R^2: 0.4520355638309367\n"
          ]
        }
      ],
      "source": [
        "model = FiveLayerFC(49,500,1e-4,1e-6)\n",
        "model.double()\n",
        "model,train_loss,val_loss = train_model(model,trainloader,valloader,num_epochs,device,verbose=False)\n",
        "model_eval(model,testloader)"
      ]
    },
    {
      "cell_type": "code",
      "execution_count": 65,
      "metadata": {
        "colab": {
          "base_uri": "https://localhost:8080/",
          "height": 447
        },
        "id": "uKSHBIFub7Ic",
        "outputId": "73e4fe76-c24f-482e-c34c-1e09cd1e8ee1"
      },
      "outputs": [
        {
          "data": {
            "text/plain": [
              "<matplotlib.legend.Legend at 0x7a583e0e6470>"
            ]
          },
          "execution_count": 65,
          "metadata": {},
          "output_type": "execute_result"
        },
        {
          "data": {
            "image/png": "[encoded data removed]",
            "text/plain": [
              "<Figure size 640x480 with 1 Axes>"
            ]
          },
          "metadata": {},
          "output_type": "display_data"
        }
      ],
      "source": [
        "plt.plot(torch.arange(num_epochs),train_loss.detach().numpy(), label=\"train_loss\")\n",
        "plt.plot(torch.arange(num_epochs),val_loss.detach().numpy(), label=\"val_loss\")\n",
        "plt.legend()"
      ]
    }
  ],
  "metadata": {
    "accelerator": "GPU",
    "colab": {
      "gpuType": "T4",
      "provenance": []
    },
    "kernelspec": {
      "display_name": "Python 3",
      "name": "python3"
    },
    "language_info": {
      "name": "python"
    }
  },
  "nbformat": 4,
  "nbformat_minor": 0
}
